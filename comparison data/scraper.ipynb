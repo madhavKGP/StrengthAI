{
 "cells": [
  {
   "cell_type": "code",
   "execution_count": 3,
   "id": "8aac66af",
   "metadata": {},
   "outputs": [
    {
     "name": "stdout",
     "output_type": "stream",
     "text": [
      "➡ Fetching: https://strengthlevel.com/strength-standards/male/kg\n"
     ]
    },
    {
     "name": "stderr",
     "output_type": "stream",
     "text": [
      "C:\\Users\\Uday Om\\AppData\\Local\\Temp\\ipykernel_8036\\1740991381.py:27: FutureWarning: Passing literal html to 'read_html' is deprecated and will be removed in a future version. To read from a literal string, wrap it in a 'StringIO' object.\n",
      "  tables = pd.read_html(html)  # grab all tables efficiently :contentReference[oaicite:1]{index=1}\n"
     ]
    },
    {
     "name": "stdout",
     "output_type": "stream",
     "text": [
      "  → Got 15 tables\n",
      "   ✓ Saved male\\kg\\bodyweight\\bench-press.csv\n",
      "   ✓ Saved male\\kg\\age\\bench-press.csv\n",
      "   ✓ Saved male\\kg\\bodyweight\\squat.csv\n",
      "   ✓ Saved male\\kg\\age\\squat.csv\n",
      "   ✓ Saved male\\kg\\bodyweight\\deadlift.csv\n",
      "   ✓ Saved male\\kg\\age\\deadlift.csv\n",
      "   ✓ Saved male\\kg\\bodyweight\\shoulder-press.csv\n",
      "   ✓ Saved male\\kg\\age\\shoulder-press.csv\n",
      "   ✓ Saved male\\kg\\bodyweight\\barbell-curl.csv\n",
      "   ✓ Saved male\\kg\\age\\barbell-curl.csv\n",
      "   ✓ Saved male\\kg\\bodyweight\\bent-over-row.csv\n",
      "   ✓ Saved male\\kg\\age\\bent-over-row.csv\n",
      "   ✓ Saved male\\kg\\bodyweight\\power-clean.csv\n",
      "   ✓ Saved male\\kg\\age\\power-clean.csv\n",
      "   ✓ Saved male\\kg\\age\\power-clean.csv\n",
      "➡ Fetching: https://strengthlevel.com/strength-standards/male/lb\n"
     ]
    },
    {
     "name": "stderr",
     "output_type": "stream",
     "text": [
      "C:\\Users\\Uday Om\\AppData\\Local\\Temp\\ipykernel_8036\\1740991381.py:27: FutureWarning: Passing literal html to 'read_html' is deprecated and will be removed in a future version. To read from a literal string, wrap it in a 'StringIO' object.\n",
      "  tables = pd.read_html(html)  # grab all tables efficiently :contentReference[oaicite:1]{index=1}\n"
     ]
    },
    {
     "name": "stdout",
     "output_type": "stream",
     "text": [
      "  → Got 15 tables\n",
      "   ✓ Saved male\\lb\\bodyweight\\bench-press.csv\n",
      "   ✓ Saved male\\lb\\age\\bench-press.csv\n",
      "   ✓ Saved male\\lb\\bodyweight\\squat.csv\n",
      "   ✓ Saved male\\lb\\age\\squat.csv\n",
      "   ✓ Saved male\\lb\\bodyweight\\deadlift.csv\n",
      "   ✓ Saved male\\lb\\age\\deadlift.csv\n",
      "   ✓ Saved male\\lb\\bodyweight\\shoulder-press.csv\n",
      "   ✓ Saved male\\lb\\age\\shoulder-press.csv\n",
      "   ✓ Saved male\\lb\\bodyweight\\barbell-curl.csv\n",
      "   ✓ Saved male\\lb\\age\\barbell-curl.csv\n",
      "   ✓ Saved male\\lb\\bodyweight\\bent-over-row.csv\n",
      "   ✓ Saved male\\lb\\age\\bent-over-row.csv\n",
      "   ✓ Saved male\\lb\\bodyweight\\power-clean.csv\n",
      "   ✓ Saved male\\lb\\age\\power-clean.csv\n",
      "   ✓ Saved male\\lb\\age\\power-clean.csv\n",
      "➡ Fetching: https://strengthlevel.com/strength-standards/female/kg\n"
     ]
    },
    {
     "name": "stderr",
     "output_type": "stream",
     "text": [
      "C:\\Users\\Uday Om\\AppData\\Local\\Temp\\ipykernel_8036\\1740991381.py:27: FutureWarning: Passing literal html to 'read_html' is deprecated and will be removed in a future version. To read from a literal string, wrap it in a 'StringIO' object.\n",
      "  tables = pd.read_html(html)  # grab all tables efficiently :contentReference[oaicite:1]{index=1}\n"
     ]
    },
    {
     "name": "stdout",
     "output_type": "stream",
     "text": [
      "  → Got 15 tables\n",
      "   ✓ Saved female\\kg\\bodyweight\\bench-press.csv\n",
      "   ✓ Saved female\\kg\\age\\bench-press.csv\n",
      "   ✓ Saved female\\kg\\bodyweight\\squat.csv\n",
      "   ✓ Saved female\\kg\\age\\squat.csv\n",
      "   ✓ Saved female\\kg\\bodyweight\\deadlift.csv\n",
      "   ✓ Saved female\\kg\\age\\deadlift.csv\n",
      "   ✓ Saved female\\kg\\bodyweight\\shoulder-press.csv\n",
      "   ✓ Saved female\\kg\\age\\shoulder-press.csv\n",
      "   ✓ Saved female\\kg\\bodyweight\\barbell-curl.csv\n",
      "   ✓ Saved female\\kg\\age\\barbell-curl.csv\n",
      "   ✓ Saved female\\kg\\bodyweight\\bent-over-row.csv\n",
      "   ✓ Saved female\\kg\\age\\bent-over-row.csv\n",
      "   ✓ Saved female\\kg\\bodyweight\\power-clean.csv\n",
      "   ✓ Saved female\\kg\\age\\power-clean.csv\n",
      "   ✓ Saved female\\kg\\age\\power-clean.csv\n",
      "➡ Fetching: https://strengthlevel.com/strength-standards/female/lb\n"
     ]
    },
    {
     "name": "stderr",
     "output_type": "stream",
     "text": [
      "C:\\Users\\Uday Om\\AppData\\Local\\Temp\\ipykernel_8036\\1740991381.py:27: FutureWarning: Passing literal html to 'read_html' is deprecated and will be removed in a future version. To read from a literal string, wrap it in a 'StringIO' object.\n",
      "  tables = pd.read_html(html)  # grab all tables efficiently :contentReference[oaicite:1]{index=1}\n"
     ]
    },
    {
     "name": "stdout",
     "output_type": "stream",
     "text": [
      "  → Got 15 tables\n",
      "   ✓ Saved female\\lb\\bodyweight\\bench-press.csv\n",
      "   ✓ Saved female\\lb\\age\\bench-press.csv\n",
      "   ✓ Saved female\\lb\\bodyweight\\squat.csv\n",
      "   ✓ Saved female\\lb\\age\\squat.csv\n",
      "   ✓ Saved female\\lb\\bodyweight\\deadlift.csv\n",
      "   ✓ Saved female\\lb\\age\\deadlift.csv\n",
      "   ✓ Saved female\\lb\\bodyweight\\shoulder-press.csv\n",
      "   ✓ Saved female\\lb\\age\\shoulder-press.csv\n",
      "   ✓ Saved female\\lb\\bodyweight\\barbell-curl.csv\n",
      "   ✓ Saved female\\lb\\age\\barbell-curl.csv\n",
      "   ✓ Saved female\\lb\\bodyweight\\bent-over-row.csv\n",
      "   ✓ Saved female\\lb\\age\\bent-over-row.csv\n",
      "   ✓ Saved female\\lb\\bodyweight\\power-clean.csv\n",
      "   ✓ Saved female\\lb\\age\\power-clean.csv\n",
      "   ✓ Saved female\\lb\\age\\power-clean.csv\n"
     ]
    }
   ],
   "source": [
    "import os\n",
    "import requests\n",
    "from bs4 import BeautifulSoup\n",
    "import pandas as pd\n",
    "\n",
    "BASE = \"https://strengthlevel.com/strength-standards\"\n",
    "GENDERS = [\"male\", \"female\"]\n",
    "UNITS = [\"kg\", \"lb\"]\n",
    "TYPES = {\n",
    "    \"bodyweight\": [\"By Bodyweight\"],\n",
    "    \"age\": [\"By Age\"],\n",
    "}\n",
    "TARGET_EX = {\n",
    "    \"bench press\",\n",
    "    \"squat\",\n",
    "    \"deadlift\",\n",
    "    \"shoulder press\",\n",
    "    \"barbell curl\",\n",
    "    \"bent over row\",\n",
    "    \"power clean\",\n",
    "}\n",
    "\n",
    "def fetch_tables(url):\n",
    "    r = requests.get(url)\n",
    "    r.raise_for_status()\n",
    "    html = r.text\n",
    "    tables = pd.read_html(html)  # grab all tables efficiently :contentReference[oaicite:1]{index=1}\n",
    "\n",
    "    soup = BeautifulSoup(html, \"lxml\")\n",
    "    elems = soup.find_all([\"h2\",\"h3\",\"h4\",\"table\"])\n",
    "    \n",
    "    idx = 0\n",
    "    out = []  # list of tuples: (exercise, standard_type, DataFrame)\n",
    "    current_ex = None\n",
    "    current_type = None\n",
    "\n",
    "    for el in elems:\n",
    "        text = el.get_text().strip().lower()\n",
    "        if el.name in [\"h2\",\"h3\",\"h4\"]:\n",
    "            for ex in TARGET_EX:\n",
    "                if ex in text:\n",
    "                    current_ex = ex.replace(\" \", \"-\")\n",
    "            for ttype, keywords in TYPES.items():\n",
    "                for kw in keywords:\n",
    "                    if kw.lower() in text:\n",
    "                        current_type = ttype\n",
    "        elif el.name == \"table\" and current_ex and current_type:\n",
    "            df = tables[idx]\n",
    "            out.append((current_ex, current_type, df))\n",
    "            idx += 1\n",
    "            # ready for next table under same exercise\n",
    "    return out\n",
    "\n",
    "def main():\n",
    "    for gender in GENDERS:\n",
    "        for unit in UNITS:\n",
    "            url = f\"{BASE}/{gender}/{unit}\"\n",
    "            print(f\"➡ Fetching: {url}\")\n",
    "            tables = fetch_tables(url)\n",
    "            print(f\"  → Got {len(tables)} tables\")\n",
    "\n",
    "            for ex, ttype, df in tables:\n",
    "                path = os.path.join(gender, unit, ttype)\n",
    "                os.makedirs(path, exist_ok=True)\n",
    "                filename = os.path.join(path, f\"{ex}.csv\")\n",
    "                df.to_csv(filename, index=False)\n",
    "                print(f\"   ✓ Saved {filename}\")\n",
    "\n",
    "if __name__ == \"__main__\":\n",
    "    main()\n"
   ]
  },
  {
   "cell_type": "code",
   "execution_count": null,
   "id": "3f162f37",
   "metadata": {},
   "outputs": [],
   "source": []
  }
 ],
 "metadata": {
  "kernelspec": {
   "display_name": "Python 3",
   "language": "python",
   "name": "python3"
  },
  "language_info": {
   "codemirror_mode": {
    "name": "ipython",
    "version": 3
   },
   "file_extension": ".py",
   "mimetype": "text/x-python",
   "name": "python",
   "nbconvert_exporter": "python",
   "pygments_lexer": "ipython3",
   "version": "3.9.13"
  }
 },
 "nbformat": 4,
 "nbformat_minor": 5
}
